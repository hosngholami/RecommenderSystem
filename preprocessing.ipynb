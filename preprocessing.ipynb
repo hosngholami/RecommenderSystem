{
  "nbformat": 4,
  "nbformat_minor": 0,
  "metadata": {
    "colab": {
      "provenance": [],
      "authorship_tag": "ABX9TyPfu0ep5gYM9EQJl4YABIhD",
      "include_colab_link": true
    },
    "kernelspec": {
      "name": "python3",
      "display_name": "Python 3"
    },
    "language_info": {
      "name": "python"
    }
  },
  "cells": [
    {
      "cell_type": "markdown",
      "metadata": {
        "id": "view-in-github",
        "colab_type": "text"
      },
      "source": [
        "<a href=\"https://colab.research.google.com/github/hosngholami/RecommenderSystem/blob/main/preprocessing.ipynb\" target=\"_parent\"><img src=\"https://colab.research.google.com/assets/colab-badge.svg\" alt=\"Open In Colab\"/></a>"
      ]
    },
    {
      "cell_type": "code",
      "execution_count": 1,
      "metadata": {
        "id": "0QQoed644UYS"
      },
      "outputs": [],
      "source": [
        "import warnings\n",
        "warnings.filterwarnings('ignore')"
      ]
    },
    {
      "cell_type": "code",
      "source": [
        "from google.colab import drive\n",
        "drive.mount('/content/drive')"
      ],
      "metadata": {
        "colab": {
          "base_uri": "https://localhost:8080/"
        },
        "id": "anXFPCgr406y",
        "outputId": "1d69f792-3a3f-4a59-eae9-70fbe9fbb015"
      },
      "execution_count": 2,
      "outputs": [
        {
          "output_type": "stream",
          "name": "stdout",
          "text": [
            "Mounted at /content/drive\n"
          ]
        }
      ]
    },
    {
      "cell_type": "code",
      "source": [
        "import pandas as pd\n",
        "import numpy as np\n",
        "import random\n",
        "from sklearn.neighbors import NearestNeighbors\n",
        "\n",
        "pd.set_option(\"display.max_columns\", 100)\n",
        "pd.set_option('display.max_rows', 100)"
      ],
      "metadata": {
        "id": "9IbSZR1M48RI"
      },
      "execution_count": 3,
      "outputs": []
    },
    {
      "cell_type": "code",
      "source": [
        "hotel = pd.read_csv('/content/drive/MyDrive/Shiraz/hotel.csv')\n",
        "historic =  pd.read_csv('/content/drive/MyDrive/Shiraz/historic.csv')\n",
        "museum = pd.read_csv('/content/drive/MyDrive/Shiraz/museum.csv')\n",
        "park = pd.read_csv('/content/drive/MyDrive/Shiraz/park.csv')\n",
        "restaurant = pd.read_csv('/content/drive/MyDrive/Shiraz/restaurant.csv')\n",
        "hospital = pd.read_csv('/content/drive/MyDrive/Shiraz/hospital.csv')\n",
        "placeOfWorship = pd.read_csv('/content/drive/MyDrive/Shiraz/place_of_worship.csv')\n",
        "swimmingPool = pd.read_csv('/content/drive/MyDrive/Shiraz/swimming_pool.csv')\n",
        "caffe = pd.read_csv('/content/drive/MyDrive/Shiraz/caffe.csv')"
      ],
      "metadata": {
        "id": "Lt6DmWXt4_ZE"
      },
      "execution_count": null,
      "outputs": []
    },
    {
      "cell_type": "code",
      "source": [
        "hotel[\"type\"] = \"hotel\"\n",
        "historic[\"type\"] = \"historic\"\n",
        "museum[\"type\"] = \"museum\"\n",
        "park[\"type\"] = \"park\"\n",
        "restaurant[\"type\"] = \"restaurant\"\n",
        "hospital[\"type\"] = \"hospital\"\n",
        "placeOfWorship[\"type\"] = \"placeofworship\"\n",
        "swimmingPool[\"type\"] = \"swimmingpool\"\n",
        "caffe[\"type\"] = \"caffe\""
      ],
      "metadata": {
        "id": "cuWDMGCsp8Eh"
      },
      "execution_count": null,
      "outputs": []
    },
    {
      "cell_type": "code",
      "source": [],
      "metadata": {
        "id": "mkKHnf6dqRzV"
      },
      "execution_count": null,
      "outputs": []
    },
    {
      "cell_type": "code",
      "source": [
        "hotel = hotel[[\"name\", \"name:en\", \"stars\", \"tourism\", \"geometry\"]]\n",
        "hotel.to_csv('/content/drive/MyDrive/Shiraz/hotel.csv')\n",
        "historic.to_csv('/content/drive/MyDrive/Shiraz/historic.csv')\n",
        "museum.to_csv('/content/drive/MyDrive/Shiraz/museum.csv')\n",
        "park.to_csv('/content/drive/MyDrive/Shiraz/park.csv')\n",
        "restaurant.to_csv('/content/drive/MyDrive/Shiraz/restaurant.csv')\n",
        "hospital.to_csv('/content/drive/MyDrive/Shiraz/hospital.csv')\n",
        "placeOfWorship.to_csv('/content/drive/MyDrive/Shiraz/placeOfWorship.csv')\n",
        "swimmingPool.to_csv('/content/drive/MyDrive/Shiraz/swimmingPool.csv')\n",
        "caffe.to_csv('/content/drive/MyDrive/Shiraz/caffe.csv')\n"
      ],
      "metadata": {
        "id": "hHGk31Pb5ZQg"
      },
      "execution_count": null,
      "outputs": []
    },
    {
      "cell_type": "code",
      "source": [
        "historic = historic[[\"amenity\",\n",
        "          \"building\",\n",
        "          \"heritage\",\n",
        "          \"historic\",\n",
        "          \"leisure\",\n",
        "          \"museum\",\n",
        "          \"memorial\",\n",
        "          \"name\",\n",
        "          \"name:en\",\n",
        "          \"opening_hours\",\n",
        "          \"tourism\",\n",
        "          \"geometry\"]]\n",
        "historic.to_csv('/content/drive/MyDrive/Shiraz/historic.csv')"
      ],
      "metadata": {
        "id": "kK_rpfA663K8"
      },
      "execution_count": null,
      "outputs": []
    },
    {
      "cell_type": "code",
      "source": [
        "museum = museum[[\"amenity\", \"building\", \"heritage\", \"historic\", \"museum\", \"tourism\", \"geometry\"]]\n",
        "museum.to_csv('/content/drive/MyDrive/Shiraz/museum.csv')"
      ],
      "metadata": {
        "id": "UNTcfjFc8n2A"
      },
      "execution_count": null,
      "outputs": []
    },
    {
      "cell_type": "code",
      "source": [
        "park = park[[\"leisure\", \"name\", \"name:en\", \"opening_hours\", \"geometry\"]]\n",
        "park.to_csv('/content/drive/MyDrive/Shiraz/park.csv')"
      ],
      "metadata": {
        "id": "7d_GqTs79i54"
      },
      "execution_count": null,
      "outputs": []
    },
    {
      "cell_type": "code",
      "source": [
        "restaurant = restaurant[[\"amenity\", \"branch\", \"building\", \"cuisine\", \"name\", \"name:en\", \"opening_hours\", \"tourism\", \"geometry\"]]\n",
        "restaurant.to_csv('/content/drive/MyDrive/Shiraz/restaurant.csv')"
      ],
      "metadata": {
        "id": "LfYr8Gm0-0DF"
      },
      "execution_count": null,
      "outputs": []
    },
    {
      "cell_type": "code",
      "source": [
        "hospital = hospital[[\"amenity\",\n",
        "          \"name\",\n",
        "          \"name:en\",\n",
        "          \"opening_hours\",\n",
        "          \"geometry\"]]\n",
        "\n",
        "hospital.to_csv('/content/drive/MyDrive/Shiraz/hospital.csv')"
      ],
      "metadata": {
        "id": "FiTcq_fFqQRN"
      },
      "execution_count": null,
      "outputs": []
    },
    {
      "cell_type": "code",
      "source": [
        "placeOfWorship = placeOfWorship[[\"amenity\",\n",
        "                \"historic\",\n",
        "                \"name\",\n",
        "                \"name:en\",\n",
        "                \"opening_hours\",\n",
        "                \"place_of_worship:type\",\n",
        "                \"tourism\",\n",
        "                \"geometry\"]]\n",
        "\n",
        "placeOfWorship.to_csv('/content/drive/MyDrive/Shiraz/placeOfWorship.csv')"
      ],
      "metadata": {
        "id": "dcQUa6Nsq_81"
      },
      "execution_count": null,
      "outputs": []
    },
    {
      "cell_type": "code",
      "source": [
        "locations = pd.concat([historic,\n",
        "                       museum,\n",
        "                       park,\n",
        "                       restaurant,\n",
        "                       placeOfWorship,\n",
        "                       swimmingPool,\n",
        "                       caffe])\n",
        "locations[\"Latitude\"] = 0\n",
        "locations[\"Longitude\"] = 0"
      ],
      "metadata": {
        "id": "Ao5pZoUJwfNH"
      },
      "execution_count": null,
      "outputs": []
    },
    {
      "cell_type": "code",
      "source": [
        "locations.info()"
      ],
      "metadata": {
        "colab": {
          "base_uri": "https://localhost:8080/"
        },
        "id": "IAzeXS4m5rBK",
        "outputId": "d4499f8f-6439-4c8e-a01b-3b3c956f6685"
      },
      "execution_count": null,
      "outputs": [
        {
          "output_type": "stream",
          "name": "stdout",
          "text": [
            "<class 'pandas.core.frame.DataFrame'>\n",
            "Index: 1223 entries, 0 to 344\n",
            "Columns: 104 entries, Unnamed: 0.1 to Longitude\n",
            "dtypes: float64(5), int64(2), object(97)\n",
            "memory usage: 1003.2+ KB\n"
          ]
        }
      ]
    },
    {
      "cell_type": "code",
      "source": [
        "for i in range(len(locations)):\n",
        "  location = locations.iloc[i]['geometry']\n",
        "  latitude = str(location).split(\" \")[1]\n",
        "  latitude = latitude.replace(\"'\", \"\")\n",
        "  latitude = latitude.replace(\"(\", \"\")\n",
        "\n",
        "  longitude = location.split(\" \")[2]\n",
        "  longitude = longitude.replace(\"'\", \"\")\n",
        "  longitude = longitude.replace(\")\", \"\")\n",
        "  longitude = longitude.replace(\"(\", \"\")\n",
        "\n",
        "\n",
        "  locations.loc[i, 'Latitude'] = latitude\n",
        "  locations.loc[i, 'Longitude'] = longitude\n",
        "\n",
        "\n",
        "\n",
        "\n"
      ],
      "metadata": {
        "id": "MB34s9wtxF42"
      },
      "execution_count": null,
      "outputs": []
    },
    {
      "cell_type": "code",
      "source": [
        "locations.to_csv('/content/drive/MyDrive/Shiraz/locations.csv')"
      ],
      "metadata": {
        "id": "eJIf7fJ86WG8"
      },
      "execution_count": null,
      "outputs": []
    },
    {
      "cell_type": "code",
      "source": [
        "locations = pd.read_csv('/content/drive/MyDrive/Shiraz/locations.csv')"
      ],
      "metadata": {
        "id": "O9eMByVr7px6"
      },
      "execution_count": 4,
      "outputs": []
    },
    {
      "cell_type": "code",
      "source": [
        "tag = pd.DataFrame(columns=[\"Id\", \"title:en\", \"title:fn\"])"
      ],
      "metadata": {
        "id": "OLrPryX3vvZ9"
      },
      "execution_count": null,
      "outputs": []
    },
    {
      "cell_type": "code",
      "source": [
        "data = [\n",
        "{\n",
        "    \"Id\": 1,\n",
        "    \"Title\": \"Historical\",\n",
        "    \"Title:Fn\" : \"مکان‌های تاریخی مانند آثار باستانی و معماری قدیمی.\"\n",
        "},{\n",
        "    \"Id\": 2,\n",
        "    \"Title\": \"Recreational\",\n",
        "    \"Title:Fn\" : \"مکان‌های تفریحی مانند پارک‌ها، شهربازی‌ها و مراکز خرید.\"\n",
        "},{\n",
        "    \"Id\": 3,\n",
        "    \"Title\": \"Natural\",\n",
        "    \"Title:Fn\" : \"جاذبه‌های طبیعی مانند کوه‌ها، جنگل‌ها، دریاها و آبشارها.\"\n",
        "},{\n",
        "    \"Id\": 4,\n",
        "    \"Title\": \"Adventure\",\n",
        "    \"Title:Fn\" : \"مکان‌های ماجراجویانه (مانند کوه‌نوردی، صخره‌نوردی).\"\n",
        "},{\n",
        "    \"Id\": 5,\n",
        "    \"Title\": \"Religious\",\n",
        "    \"Title:Fn\" : \"مکان‌های مذهبی (مانند کلیساها، مساجد، معابد).\"\n",
        "},{\n",
        "    \"Id\": 6,\n",
        "    \"Title\": \"Health/Thermal\",\n",
        "    \"Title:Fn\" : \"مکان‌های سلامت و درمانی مانند چشمه‌های آب گرم\"\n",
        "}, {\n",
        "    \"Id\": 7,\n",
        "    \"Title\": \"Resort\",\n",
        "    \"Title:Fn\" : \"استراحتگاه.\"\n",
        "},\n",
        "{\n",
        "    \"Id\": 8,\n",
        "    \"Title\": \"Artistic\",\n",
        "    \"Title:Fn\" : \"مکان‌هایی هنری مانند گالری‌ها، موزه‌ها و مناظر زیبا.\"\n",
        "},\n",
        "{\n",
        "    \"Id\": 9,\n",
        "    \"Title\": \"Photography\",\n",
        "    \"Title:Fn\" : \" مکان های مناسب عکاسی مانند گالری، موزه ها و مناظر زیبا.\"\n",
        "},\n",
        "{\n",
        "    \"Id\": 10,\n",
        "    \"Title\": \"Cultural\",\n",
        "    \"Title:Fn\" : \"مکان‌هایی که فرهنگ و هنر یک منطقه را نمایش می‌دهند.\"\n",
        "},\n",
        "]"
      ],
      "metadata": {
        "id": "v0Ym1zq1wMi8"
      },
      "execution_count": null,
      "outputs": []
    },
    {
      "cell_type": "code",
      "source": [
        "tag = pd.read_csv('/content/drive/MyDrive/Shiraz/tag.csv')"
      ],
      "metadata": {
        "id": "ljxuBzryzguz"
      },
      "execution_count": null,
      "outputs": []
    },
    {
      "cell_type": "code",
      "source": [
        "tag"
      ],
      "metadata": {
        "id": "Mal1sMWc0KAj",
        "outputId": "d2b88abe-8bed-42e3-ef59-51b8319c42b5",
        "colab": {
          "base_uri": "https://localhost:8080/",
          "height": 347
        }
      },
      "execution_count": null,
      "outputs": [
        {
          "output_type": "execute_result",
          "data": {
            "text/plain": [
              "   Unnamed: 0  Id           Title  \\\n",
              "0           0   1      Historical   \n",
              "1           1   2    Recreational   \n",
              "2           2   3         Natural   \n",
              "3           3   4       Adventure   \n",
              "4           4   5       Religious   \n",
              "5           5   6  Health/Thermal   \n",
              "6           6   7          Resort   \n",
              "7           7   8        Artistic   \n",
              "8           8   9     Photography   \n",
              "9           9  10        Cultural   \n",
              "\n",
              "                                            Title:Fn  \n",
              "0  مکان‌های تاریخی مانند آثار باستانی و معماری قد...  \n",
              "1  مکان‌های تفریحی مانند پارک‌ها، شهربازی‌ها و مر...  \n",
              "2  جاذبه‌های طبیعی مانند کوه‌ها، جنگل‌ها، دریاها ...  \n",
              "3  مکان‌های ماجراجویانه (مانند کوه‌نوردی، صخره‌نو...  \n",
              "4      مکان‌های مذهبی (مانند کلیساها، مساجد، معابد).  \n",
              "5      مکان‌های سلامت و درمانی مانند چشمه‌های آب گرم  \n",
              "6                                        استراحتگاه.  \n",
              "7  مکان‌هایی هنری مانند گالری‌ها، موزه‌ها و مناظر...  \n",
              "8   مکان های مناسب عکاسی مانند گالری، موزه ها و م...  \n",
              "9  مکان‌هایی که فرهنگ و هنر یک منطقه را نمایش می‌...  "
            ],
            "text/html": [
              "\n",
              "  <div id=\"df-360b2c22-047e-4e2c-910c-72cd630d011b\" class=\"colab-df-container\">\n",
              "    <div>\n",
              "<style scoped>\n",
              "    .dataframe tbody tr th:only-of-type {\n",
              "        vertical-align: middle;\n",
              "    }\n",
              "\n",
              "    .dataframe tbody tr th {\n",
              "        vertical-align: top;\n",
              "    }\n",
              "\n",
              "    .dataframe thead th {\n",
              "        text-align: right;\n",
              "    }\n",
              "</style>\n",
              "<table border=\"1\" class=\"dataframe\">\n",
              "  <thead>\n",
              "    <tr style=\"text-align: right;\">\n",
              "      <th></th>\n",
              "      <th>Unnamed: 0</th>\n",
              "      <th>Id</th>\n",
              "      <th>Title</th>\n",
              "      <th>Title:Fn</th>\n",
              "    </tr>\n",
              "  </thead>\n",
              "  <tbody>\n",
              "    <tr>\n",
              "      <th>0</th>\n",
              "      <td>0</td>\n",
              "      <td>1</td>\n",
              "      <td>Historical</td>\n",
              "      <td>مکان‌های تاریخی مانند آثار باستانی و معماری قد...</td>\n",
              "    </tr>\n",
              "    <tr>\n",
              "      <th>1</th>\n",
              "      <td>1</td>\n",
              "      <td>2</td>\n",
              "      <td>Recreational</td>\n",
              "      <td>مکان‌های تفریحی مانند پارک‌ها، شهربازی‌ها و مر...</td>\n",
              "    </tr>\n",
              "    <tr>\n",
              "      <th>2</th>\n",
              "      <td>2</td>\n",
              "      <td>3</td>\n",
              "      <td>Natural</td>\n",
              "      <td>جاذبه‌های طبیعی مانند کوه‌ها، جنگل‌ها، دریاها ...</td>\n",
              "    </tr>\n",
              "    <tr>\n",
              "      <th>3</th>\n",
              "      <td>3</td>\n",
              "      <td>4</td>\n",
              "      <td>Adventure</td>\n",
              "      <td>مکان‌های ماجراجویانه (مانند کوه‌نوردی، صخره‌نو...</td>\n",
              "    </tr>\n",
              "    <tr>\n",
              "      <th>4</th>\n",
              "      <td>4</td>\n",
              "      <td>5</td>\n",
              "      <td>Religious</td>\n",
              "      <td>مکان‌های مذهبی (مانند کلیساها، مساجد، معابد).</td>\n",
              "    </tr>\n",
              "    <tr>\n",
              "      <th>5</th>\n",
              "      <td>5</td>\n",
              "      <td>6</td>\n",
              "      <td>Health/Thermal</td>\n",
              "      <td>مکان‌های سلامت و درمانی مانند چشمه‌های آب گرم</td>\n",
              "    </tr>\n",
              "    <tr>\n",
              "      <th>6</th>\n",
              "      <td>6</td>\n",
              "      <td>7</td>\n",
              "      <td>Resort</td>\n",
              "      <td>استراحتگاه.</td>\n",
              "    </tr>\n",
              "    <tr>\n",
              "      <th>7</th>\n",
              "      <td>7</td>\n",
              "      <td>8</td>\n",
              "      <td>Artistic</td>\n",
              "      <td>مکان‌هایی هنری مانند گالری‌ها، موزه‌ها و مناظر...</td>\n",
              "    </tr>\n",
              "    <tr>\n",
              "      <th>8</th>\n",
              "      <td>8</td>\n",
              "      <td>9</td>\n",
              "      <td>Photography</td>\n",
              "      <td>مکان های مناسب عکاسی مانند گالری، موزه ها و م...</td>\n",
              "    </tr>\n",
              "    <tr>\n",
              "      <th>9</th>\n",
              "      <td>9</td>\n",
              "      <td>10</td>\n",
              "      <td>Cultural</td>\n",
              "      <td>مکان‌هایی که فرهنگ و هنر یک منطقه را نمایش می‌...</td>\n",
              "    </tr>\n",
              "  </tbody>\n",
              "</table>\n",
              "</div>\n",
              "    <div class=\"colab-df-buttons\">\n",
              "\n",
              "  <div class=\"colab-df-container\">\n",
              "    <button class=\"colab-df-convert\" onclick=\"convertToInteractive('df-360b2c22-047e-4e2c-910c-72cd630d011b')\"\n",
              "            title=\"Convert this dataframe to an interactive table.\"\n",
              "            style=\"display:none;\">\n",
              "\n",
              "  <svg xmlns=\"http://www.w3.org/2000/svg\" height=\"24px\" viewBox=\"0 -960 960 960\">\n",
              "    <path d=\"M120-120v-720h720v720H120Zm60-500h600v-160H180v160Zm220 220h160v-160H400v160Zm0 220h160v-160H400v160ZM180-400h160v-160H180v160Zm440 0h160v-160H620v160ZM180-180h160v-160H180v160Zm440 0h160v-160H620v160Z\"/>\n",
              "  </svg>\n",
              "    </button>\n",
              "\n",
              "  <style>\n",
              "    .colab-df-container {\n",
              "      display:flex;\n",
              "      gap: 12px;\n",
              "    }\n",
              "\n",
              "    .colab-df-convert {\n",
              "      background-color: #E8F0FE;\n",
              "      border: none;\n",
              "      border-radius: 50%;\n",
              "      cursor: pointer;\n",
              "      display: none;\n",
              "      fill: #1967D2;\n",
              "      height: 32px;\n",
              "      padding: 0 0 0 0;\n",
              "      width: 32px;\n",
              "    }\n",
              "\n",
              "    .colab-df-convert:hover {\n",
              "      background-color: #E2EBFA;\n",
              "      box-shadow: 0px 1px 2px rgba(60, 64, 67, 0.3), 0px 1px 3px 1px rgba(60, 64, 67, 0.15);\n",
              "      fill: #174EA6;\n",
              "    }\n",
              "\n",
              "    .colab-df-buttons div {\n",
              "      margin-bottom: 4px;\n",
              "    }\n",
              "\n",
              "    [theme=dark] .colab-df-convert {\n",
              "      background-color: #3B4455;\n",
              "      fill: #D2E3FC;\n",
              "    }\n",
              "\n",
              "    [theme=dark] .colab-df-convert:hover {\n",
              "      background-color: #434B5C;\n",
              "      box-shadow: 0px 1px 3px 1px rgba(0, 0, 0, 0.15);\n",
              "      filter: drop-shadow(0px 1px 2px rgba(0, 0, 0, 0.3));\n",
              "      fill: #FFFFFF;\n",
              "    }\n",
              "  </style>\n",
              "\n",
              "    <script>\n",
              "      const buttonEl =\n",
              "        document.querySelector('#df-360b2c22-047e-4e2c-910c-72cd630d011b button.colab-df-convert');\n",
              "      buttonEl.style.display =\n",
              "        google.colab.kernel.accessAllowed ? 'block' : 'none';\n",
              "\n",
              "      async function convertToInteractive(key) {\n",
              "        const element = document.querySelector('#df-360b2c22-047e-4e2c-910c-72cd630d011b');\n",
              "        const dataTable =\n",
              "          await google.colab.kernel.invokeFunction('convertToInteractive',\n",
              "                                                    [key], {});\n",
              "        if (!dataTable) return;\n",
              "\n",
              "        const docLinkHtml = 'Like what you see? Visit the ' +\n",
              "          '<a target=\"_blank\" href=https://colab.research.google.com/notebooks/data_table.ipynb>data table notebook</a>'\n",
              "          + ' to learn more about interactive tables.';\n",
              "        element.innerHTML = '';\n",
              "        dataTable['output_type'] = 'display_data';\n",
              "        await google.colab.output.renderOutput(dataTable, element);\n",
              "        const docLink = document.createElement('div');\n",
              "        docLink.innerHTML = docLinkHtml;\n",
              "        element.appendChild(docLink);\n",
              "      }\n",
              "    </script>\n",
              "  </div>\n",
              "\n",
              "\n",
              "<div id=\"df-a7e2f669-1ceb-4fd3-8ac0-f2a6161a40a3\">\n",
              "  <button class=\"colab-df-quickchart\" onclick=\"quickchart('df-a7e2f669-1ceb-4fd3-8ac0-f2a6161a40a3')\"\n",
              "            title=\"Suggest charts\"\n",
              "            style=\"display:none;\">\n",
              "\n",
              "<svg xmlns=\"http://www.w3.org/2000/svg\" height=\"24px\"viewBox=\"0 0 24 24\"\n",
              "     width=\"24px\">\n",
              "    <g>\n",
              "        <path d=\"M19 3H5c-1.1 0-2 .9-2 2v14c0 1.1.9 2 2 2h14c1.1 0 2-.9 2-2V5c0-1.1-.9-2-2-2zM9 17H7v-7h2v7zm4 0h-2V7h2v10zm4 0h-2v-4h2v4z\"/>\n",
              "    </g>\n",
              "</svg>\n",
              "  </button>\n",
              "\n",
              "<style>\n",
              "  .colab-df-quickchart {\n",
              "      --bg-color: #E8F0FE;\n",
              "      --fill-color: #1967D2;\n",
              "      --hover-bg-color: #E2EBFA;\n",
              "      --hover-fill-color: #174EA6;\n",
              "      --disabled-fill-color: #AAA;\n",
              "      --disabled-bg-color: #DDD;\n",
              "  }\n",
              "\n",
              "  [theme=dark] .colab-df-quickchart {\n",
              "      --bg-color: #3B4455;\n",
              "      --fill-color: #D2E3FC;\n",
              "      --hover-bg-color: #434B5C;\n",
              "      --hover-fill-color: #FFFFFF;\n",
              "      --disabled-bg-color: #3B4455;\n",
              "      --disabled-fill-color: #666;\n",
              "  }\n",
              "\n",
              "  .colab-df-quickchart {\n",
              "    background-color: var(--bg-color);\n",
              "    border: none;\n",
              "    border-radius: 50%;\n",
              "    cursor: pointer;\n",
              "    display: none;\n",
              "    fill: var(--fill-color);\n",
              "    height: 32px;\n",
              "    padding: 0;\n",
              "    width: 32px;\n",
              "  }\n",
              "\n",
              "  .colab-df-quickchart:hover {\n",
              "    background-color: var(--hover-bg-color);\n",
              "    box-shadow: 0 1px 2px rgba(60, 64, 67, 0.3), 0 1px 3px 1px rgba(60, 64, 67, 0.15);\n",
              "    fill: var(--button-hover-fill-color);\n",
              "  }\n",
              "\n",
              "  .colab-df-quickchart-complete:disabled,\n",
              "  .colab-df-quickchart-complete:disabled:hover {\n",
              "    background-color: var(--disabled-bg-color);\n",
              "    fill: var(--disabled-fill-color);\n",
              "    box-shadow: none;\n",
              "  }\n",
              "\n",
              "  .colab-df-spinner {\n",
              "    border: 2px solid var(--fill-color);\n",
              "    border-color: transparent;\n",
              "    border-bottom-color: var(--fill-color);\n",
              "    animation:\n",
              "      spin 1s steps(1) infinite;\n",
              "  }\n",
              "\n",
              "  @keyframes spin {\n",
              "    0% {\n",
              "      border-color: transparent;\n",
              "      border-bottom-color: var(--fill-color);\n",
              "      border-left-color: var(--fill-color);\n",
              "    }\n",
              "    20% {\n",
              "      border-color: transparent;\n",
              "      border-left-color: var(--fill-color);\n",
              "      border-top-color: var(--fill-color);\n",
              "    }\n",
              "    30% {\n",
              "      border-color: transparent;\n",
              "      border-left-color: var(--fill-color);\n",
              "      border-top-color: var(--fill-color);\n",
              "      border-right-color: var(--fill-color);\n",
              "    }\n",
              "    40% {\n",
              "      border-color: transparent;\n",
              "      border-right-color: var(--fill-color);\n",
              "      border-top-color: var(--fill-color);\n",
              "    }\n",
              "    60% {\n",
              "      border-color: transparent;\n",
              "      border-right-color: var(--fill-color);\n",
              "    }\n",
              "    80% {\n",
              "      border-color: transparent;\n",
              "      border-right-color: var(--fill-color);\n",
              "      border-bottom-color: var(--fill-color);\n",
              "    }\n",
              "    90% {\n",
              "      border-color: transparent;\n",
              "      border-bottom-color: var(--fill-color);\n",
              "    }\n",
              "  }\n",
              "</style>\n",
              "\n",
              "  <script>\n",
              "    async function quickchart(key) {\n",
              "      const quickchartButtonEl =\n",
              "        document.querySelector('#' + key + ' button');\n",
              "      quickchartButtonEl.disabled = true;  // To prevent multiple clicks.\n",
              "      quickchartButtonEl.classList.add('colab-df-spinner');\n",
              "      try {\n",
              "        const charts = await google.colab.kernel.invokeFunction(\n",
              "            'suggestCharts', [key], {});\n",
              "      } catch (error) {\n",
              "        console.error('Error during call to suggestCharts:', error);\n",
              "      }\n",
              "      quickchartButtonEl.classList.remove('colab-df-spinner');\n",
              "      quickchartButtonEl.classList.add('colab-df-quickchart-complete');\n",
              "    }\n",
              "    (() => {\n",
              "      let quickchartButtonEl =\n",
              "        document.querySelector('#df-a7e2f669-1ceb-4fd3-8ac0-f2a6161a40a3 button');\n",
              "      quickchartButtonEl.style.display =\n",
              "        google.colab.kernel.accessAllowed ? 'block' : 'none';\n",
              "    })();\n",
              "  </script>\n",
              "</div>\n",
              "    </div>\n",
              "  </div>\n"
            ],
            "application/vnd.google.colaboratory.intrinsic+json": {
              "type": "dataframe",
              "variable_name": "tag",
              "summary": "{\n  \"name\": \"tag\",\n  \"rows\": 10,\n  \"fields\": [\n    {\n      \"column\": \"Unnamed: 0\",\n      \"properties\": {\n        \"dtype\": \"number\",\n        \"std\": 3,\n        \"min\": 0,\n        \"max\": 9,\n        \"num_unique_values\": 10,\n        \"samples\": [\n          8,\n          1,\n          5\n        ],\n        \"semantic_type\": \"\",\n        \"description\": \"\"\n      }\n    },\n    {\n      \"column\": \"Id\",\n      \"properties\": {\n        \"dtype\": \"number\",\n        \"std\": 3,\n        \"min\": 1,\n        \"max\": 10,\n        \"num_unique_values\": 10,\n        \"samples\": [\n          9,\n          2,\n          6\n        ],\n        \"semantic_type\": \"\",\n        \"description\": \"\"\n      }\n    },\n    {\n      \"column\": \"Title\",\n      \"properties\": {\n        \"dtype\": \"string\",\n        \"num_unique_values\": 10,\n        \"samples\": [\n          \"Photography\",\n          \"Recreational\",\n          \"Health/Thermal\"\n        ],\n        \"semantic_type\": \"\",\n        \"description\": \"\"\n      }\n    },\n    {\n      \"column\": \"Title:Fn\",\n      \"properties\": {\n        \"dtype\": \"string\",\n        \"num_unique_values\": 10,\n        \"samples\": [\n          \" \\u0645\\u06a9\\u0627\\u0646 \\u0647\\u0627\\u06cc \\u0645\\u0646\\u0627\\u0633\\u0628 \\u0639\\u06a9\\u0627\\u0633\\u06cc \\u0645\\u0627\\u0646\\u0646\\u062f \\u06af\\u0627\\u0644\\u0631\\u06cc\\u060c \\u0645\\u0648\\u0632\\u0647 \\u0647\\u0627 \\u0648 \\u0645\\u0646\\u0627\\u0638\\u0631 \\u0632\\u06cc\\u0628\\u0627.\",\n          \"\\u0645\\u06a9\\u0627\\u0646\\u200c\\u0647\\u0627\\u06cc \\u062a\\u0641\\u0631\\u06cc\\u062d\\u06cc \\u0645\\u0627\\u0646\\u0646\\u062f \\u067e\\u0627\\u0631\\u06a9\\u200c\\u0647\\u0627\\u060c \\u0634\\u0647\\u0631\\u0628\\u0627\\u0632\\u06cc\\u200c\\u0647\\u0627 \\u0648 \\u0645\\u0631\\u0627\\u06a9\\u0632 \\u062e\\u0631\\u06cc\\u062f.\",\n          \"\\u0645\\u06a9\\u0627\\u0646\\u200c\\u0647\\u0627\\u06cc \\u0633\\u0644\\u0627\\u0645\\u062a \\u0648 \\u062f\\u0631\\u0645\\u0627\\u0646\\u06cc \\u0645\\u0627\\u0646\\u0646\\u062f \\u0686\\u0634\\u0645\\u0647\\u200c\\u0647\\u0627\\u06cc \\u0622\\u0628 \\u06af\\u0631\\u0645\"\n        ],\n        \"semantic_type\": \"\",\n        \"description\": \"\"\n      }\n    }\n  ]\n}"
            }
          },
          "metadata": {},
          "execution_count": 14
        }
      ]
    },
    {
      "cell_type": "code",
      "source": [
        "# locations[locations[\"type\"] == \"historic\"]['tag'] = \"historic\"\n",
        "locations[\"tag\"] = [[] for _ in range(len(locations))]\n",
        "\n",
        "print(set(locations[\"amenity\"]))\n",
        "for i in range(len(locations)):\n",
        "  if (locations.iloc[i][\"amenity\"] == 'cafe'):\n",
        "    if('caffe' not in locations.iloc[i][\"tag\"]):\n",
        "      locations.iloc[i][\"tag\"].append('caffe')\n",
        "\n",
        "  if (locations.iloc[i][\"amenity\"] == 'restaurant'):\n",
        "    if('restaurant' not in locations.iloc[i][\"tag\"]):\n",
        "      locations.iloc[i][\"tag\"].append('restaurant')\n",
        "\n",
        "  if (locations.iloc[i][\"amenity\"] == 'theatre'):\n",
        "    if('Artistic' not in locations.iloc[i][\"tag\"]):\n",
        "      locations.iloc[i][\"tag\"].append('Artistic')\n",
        "    if('Cultural' not in locations.iloc[i][\"tag\"]):\n",
        "      locations.iloc[i][\"tag\"].append('Cultural')\n",
        "\n",
        "\n",
        "  if (locations.iloc[i][\"amenity\"] == 'place_of_worship'):\n",
        "    if('Religious' not in locations.iloc[i][\"tag\"]):\n",
        "      locations.iloc[i][\"tag\"].append('Religious')\n",
        "\n",
        "\n"
      ],
      "metadata": {
        "id": "PnIZs_5w55nJ",
        "outputId": "7e95906d-76dc-4f9e-81aa-d856f73e6efd",
        "colab": {
          "base_uri": "https://localhost:8080/"
        }
      },
      "execution_count": 38,
      "outputs": [
        {
          "output_type": "stream",
          "name": "stdout",
          "text": [
            "{'cafe', 'marketplace', 'place_of_worship', 'theatre', 'public_bath', nan, 'restaurant'}\n"
          ]
        }
      ]
    },
    {
      "cell_type": "code",
      "source": [
        "filtered_df = locations[locations['tag'].apply(lambda x: 'Cultural' in x)]\n",
        "filtered_df[\"tag\"]"
      ],
      "metadata": {
        "id": "mk8kWH3Gufkb",
        "outputId": "2fdb0ddc-9d17-4b10-ba93-8b750f7d78ea",
        "colab": {
          "base_uri": "https://localhost:8080/",
          "height": 115
        }
      },
      "execution_count": 39,
      "outputs": [
        {
          "output_type": "execute_result",
          "data": {
            "text/plain": [
              "92    [Artistic, Cultural]\n",
              "Name: tag, dtype: object"
            ],
            "text/html": [
              "<div>\n",
              "<style scoped>\n",
              "    .dataframe tbody tr th:only-of-type {\n",
              "        vertical-align: middle;\n",
              "    }\n",
              "\n",
              "    .dataframe tbody tr th {\n",
              "        vertical-align: top;\n",
              "    }\n",
              "\n",
              "    .dataframe thead th {\n",
              "        text-align: right;\n",
              "    }\n",
              "</style>\n",
              "<table border=\"1\" class=\"dataframe\">\n",
              "  <thead>\n",
              "    <tr style=\"text-align: right;\">\n",
              "      <th></th>\n",
              "      <th>tag</th>\n",
              "    </tr>\n",
              "  </thead>\n",
              "  <tbody>\n",
              "    <tr>\n",
              "      <th>92</th>\n",
              "      <td>[Artistic, Cultural]</td>\n",
              "    </tr>\n",
              "  </tbody>\n",
              "</table>\n",
              "</div><br><label><b>dtype:</b> object</label>"
            ]
          },
          "metadata": {},
          "execution_count": 39
        }
      ]
    },
    {
      "cell_type": "code",
      "source": [
        "set(locations[\"building\"])\n",
        "\n",
        "for i in range(len(locations)):\n",
        "  if (locations.iloc[i][\"building\"] == 'mosque'):\n",
        "    if('Religious' not in locations.iloc[i][\"tag\"]):\n",
        "      locations.iloc[i][\"tag\"].append('Religious')\n",
        "\n",
        "  if (locations.iloc[i][\"building\"] == 'mausoleum'):\n",
        "    if('Religious' not in locations.iloc[i][\"tag\"]):\n",
        "      locations.iloc[i][\"tag\"].append('Religious')\n",
        "    if('Cultural' not in locations.iloc[i][\"tag\"]):\n",
        "      locations.iloc[i][\"tag\"].append('Cultural')\n",
        "\n",
        "  if (locations.iloc[i][\"building\"] == 'sports_hall'):\n",
        "    if('Recreational' not in locations.iloc[i][\"tag\"]):\n",
        "      locations.iloc[i][\"tag\"].append('Recreational')"
      ],
      "metadata": {
        "id": "0CSCQ9h7n73v"
      },
      "execution_count": 40,
      "outputs": []
    },
    {
      "cell_type": "code",
      "source": [
        "print(type(locations[\"heritage\"]))\n",
        "\n",
        "for i in range(len(locations)):\n",
        "  if (locations.iloc[i][\"heritage\"] == 2):\n",
        "    if('Religious' not in locations.iloc[i][\"tag\"]):\n",
        "      locations.iloc[i][\"tag\"].append('Religious')\n",
        "\n",
        "  if (locations.iloc[i][\"building\"] == 'mausoleum'):\n",
        "    if('Religious' not in locations.iloc[i][\"tag\"]):\n",
        "      locations.iloc[i][\"tag\"].append('Religious')\n",
        "    if('Cultural' not in locations.iloc[i][\"tag\"]):\n",
        "      locations.iloc[i][\"tag\"].append('Cultural')\n",
        "\n",
        "  if (locations.iloc[i][\"building\"] == 'sports_hall'):\n",
        "    if('Recreational' not in locations.iloc[i][\"tag\"]):\n",
        "      locations.iloc[i][\"tag\"].append('Recreational')"
      ],
      "metadata": {
        "id": "FA1dRMKUqub8",
        "outputId": "fd713cf4-7fa0-4e04-d864-29edfb62cc56",
        "colab": {
          "base_uri": "https://localhost:8080/"
        }
      },
      "execution_count": 43,
      "outputs": [
        {
          "output_type": "stream",
          "name": "stdout",
          "text": [
            "<class 'pandas.core.series.Series'>\n"
          ]
        }
      ]
    },
    {
      "cell_type": "code",
      "source": [
        "print(set(locations[\"historic\"]))\n",
        "for i in range(len(locations)):\n",
        "  if (locations.iloc[i][\"historic\"] == 'caravanserai'):\n",
        "    if('historic' not in locations.iloc[i][\"tag\"]):\n",
        "      locations.iloc[i][\"tag\"].append('historic')\n",
        "\n",
        "    if('Photography' not in locations.iloc[i][\"tag\"]):\n",
        "      locations.iloc[i][\"tag\"].append('Photography')\n",
        "\n",
        "    if('Cultural' not in locations.iloc[i][\"tag\"]):\n",
        "      locations.iloc[i][\"tag\"].append('Cultural')\n",
        "\n",
        "  if (locations.iloc[i][\"historic\"] == 'castle'):\n",
        "    if('historic' not in locations.iloc[i][\"tag\"]):\n",
        "      locations.iloc[i][\"tag\"].append('historic')\n",
        "\n",
        "    if('Cultural' not in locations.iloc[i][\"tag\"]):\n",
        "      locations.iloc[i][\"tag\"].append('Cultural')\n",
        "\n",
        "    if('Photography' not in locations.iloc[i][\"tag\"]):\n",
        "      locations.iloc[i][\"tag\"].append('Photography')\n",
        "\n",
        "  if (locations.iloc[i][\"historic\"] == 'castle_wall'):\n",
        "    if('historic' not in locations.iloc[i][\"tag\"]):\n",
        "      locations.iloc[i][\"tag\"].append('historic')\n",
        "\n",
        "    if('Cultural' not in locations.iloc[i][\"tag\"]):\n",
        "      locations.iloc[i][\"tag\"].append('Cultural')\n",
        "\n",
        "    if('Photography' not in locations.iloc[i][\"tag\"]):\n",
        "      locations.iloc[i][\"tag\"].append('Photography')\n",
        "\n",
        "  if (locations.iloc[i][\"historic\"] == 'city_gate'):\n",
        "    if('historic' not in locations.iloc[i][\"tag\"]):\n",
        "      locations.iloc[i][\"tag\"].append('historic')\n",
        "\n",
        "    if('Cultural' not in locations.iloc[i][\"tag\"]):\n",
        "      locations.iloc[i][\"tag\"].append('Cultural')\n",
        "\n",
        "  if (locations.iloc[i][\"historic\"] == 'garden'):\n",
        "    if('Recreational' not in locations.iloc[i][\"tag\"]):\n",
        "      locations.iloc[i][\"tag\"].append('Recreational')\n",
        "\n",
        "    if('Photography' not in locations.iloc[i][\"tag\"]):\n",
        "      locations.iloc[i][\"tag\"].append('Photography')\n",
        "\n",
        "  if (locations.iloc[i][\"historic\"] == 'manor'):\n",
        "\n",
        "    if('Cultural' not in locations.iloc[i][\"tag\"]):\n",
        "      locations.iloc[i][\"tag\"].append('Cultural')\n",
        "\n",
        "    if('Photography' not in locations.iloc[i][\"tag\"]):\n",
        "      locations.iloc[i][\"tag\"].append('Photography')\n",
        "\n",
        "  if (locations.iloc[i][\"historic\"] == 'monument'):\n",
        "\n",
        "    if('Cultural' not in locations.iloc[i][\"tag\"]):\n",
        "      locations.iloc[i][\"tag\"].append('Cultural')\n",
        "\n",
        "    if('historic' not in locations.iloc[i][\"tag\"]):\n",
        "      locations.iloc[i][\"tag\"].append('historic')\n",
        "\n",
        "    if('Photography' not in locations.iloc[i][\"tag\"]):\n",
        "      locations.iloc[i][\"tag\"].append('Photography')\n",
        "\n",
        "  if (locations.iloc[i][\"historic\"] == 'pillory'):\n",
        "\n",
        "    if('Cultural' not in locations.iloc[i][\"tag\"]):\n",
        "      locations.iloc[i][\"tag\"].append('Cultural')\n",
        "\n",
        "    if('Photography' not in locations.iloc[i][\"tag\"]):\n",
        "      locations.iloc[i][\"tag\"].append('Photography')\n",
        "\n",
        "  if (locations.iloc[i][\"historic\"] == 'yes'):\n",
        "\n",
        "    if('historic' not in locations.iloc[i][\"tag\"]):\n",
        "      locations.iloc[i][\"tag\"].append('historic')\n",
        "\n",
        "\n",
        ""
      ],
      "metadata": {
        "colab": {
          "base_uri": "https://localhost:8080/"
        },
        "id": "kim72oxv1Crc",
        "outputId": "990c839d-09e4-4c35-f813-ac4cdd19f050"
      },
      "execution_count": 48,
      "outputs": [
        {
          "output_type": "stream",
          "name": "stdout",
          "text": [
            "{'building', 'tomb', 'manor', 'yes', 'pillory', 'تپه_پوستچی', 'city_gate', 'garden', 'monument', 'house', 'caravanserai', 'castle_wall', nan, 'castle', 'memorial'}\n"
          ]
        }
      ]
    },
    {
      "cell_type": "code",
      "source": [
        "set(locations[\"leisure\"])\n",
        "for i in range(len(locations)):\n",
        "  if (locations.iloc[i][\"leisure\"] == 'garden'):\n",
        "    if('Recreational' not in locations.iloc[i][\"tag\"]):\n",
        "      locations.iloc[i][\"tag\"].append('Recreational')\n",
        "  if (locations.iloc[i][\"leisure\"] == 'park'):\n",
        "    if('Recreational' not in locations.iloc[i][\"tag\"]):\n",
        "      locations.iloc[i][\"tag\"].append('Recreational')\n",
        "\n",
        "  if (locations.iloc[i][\"leisure\"] == 'swimming_pool'):\n",
        "    if('Recreational' not in locations.iloc[i][\"tag\"]):\n",
        "      locations.iloc[i][\"tag\"].append('Recreational')\n",
        ""
      ],
      "metadata": {
        "id": "XV6MHwu25Tcn"
      },
      "execution_count": 51,
      "outputs": []
    },
    {
      "cell_type": "code",
      "source": [
        "set(locations[\"museum\"])"
      ],
      "metadata": {
        "id": "-36WbxX06kr9",
        "outputId": "4da35374-f628-48f5-b209-555b7dc88e69",
        "colab": {
          "base_uri": "https://localhost:8080/"
        }
      },
      "execution_count": 53,
      "outputs": [
        {
          "output_type": "execute_result",
          "data": {
            "text/plain": [
              "{'art', 'history', 'music', 'music;ceramics', nan}"
            ]
          },
          "metadata": {},
          "execution_count": 53
        }
      ]
    },
    {
      "cell_type": "markdown",
      "source": [],
      "metadata": {
        "id": "LIvgdfw8w1oD"
      }
    }
  ]
}