{
  "nbformat": 4,
  "nbformat_minor": 0,
  "metadata": {
    "colab": {
      "provenance": [],
      "authorship_tag": "ABX9TyMhiPCpYK4g0JhBGKIhBQQT",
      "include_colab_link": true
    },
    "kernelspec": {
      "name": "python3",
      "display_name": "Python 3"
    },
    "language_info": {
      "name": "python"
    }
  },
  "cells": [
    {
      "cell_type": "markdown",
      "metadata": {
        "id": "view-in-github",
        "colab_type": "text"
      },
      "source": [
        "<a href=\"https://colab.research.google.com/github/hosngholami/RecommenderSystem/blob/main/preprocessing.ipynb\" target=\"_parent\"><img src=\"https://colab.research.google.com/assets/colab-badge.svg\" alt=\"Open In Colab\"/></a>"
      ]
    },
    {
      "cell_type": "code",
      "execution_count": 1,
      "metadata": {
        "id": "0QQoed644UYS"
      },
      "outputs": [],
      "source": [
        "import warnings\n",
        "warnings.filterwarnings('ignore')"
      ]
    },
    {
      "cell_type": "code",
      "source": [
        "from google.colab import drive\n",
        "drive.mount('/content/drive')"
      ],
      "metadata": {
        "colab": {
          "base_uri": "https://localhost:8080/"
        },
        "id": "anXFPCgr406y",
        "outputId": "ca7f8d98-8d7d-430a-c4ce-3f838a291e81"
      },
      "execution_count": 2,
      "outputs": [
        {
          "output_type": "stream",
          "name": "stdout",
          "text": [
            "Mounted at /content/drive\n"
          ]
        }
      ]
    },
    {
      "cell_type": "code",
      "source": [
        "import pandas as pd\n",
        "import numpy as np\n",
        "import random\n",
        "from sklearn.neighbors import NearestNeighbors\n",
        "\n",
        "pd.set_option(\"display.max_columns\", 1000)\n",
        "pd.set_option('display.max_rows', 1000)"
      ],
      "metadata": {
        "id": "9IbSZR1M48RI"
      },
      "execution_count": 3,
      "outputs": []
    },
    {
      "cell_type": "code",
      "source": [
        "hotel = pd.read_csv('/content/drive/MyDrive/Shiraz/hotel.csv')\n",
        "historic =  pd.read_csv('/content/drive/MyDrive/Shiraz/historic.csv')\n",
        "museum = pd.read_csv('/content/drive/MyDrive/Shiraz/museum.csv')\n",
        "park = pd.read_csv('/content/drive/MyDrive/Shiraz/park.csv')\n",
        "restaurant = pd.read_csv('/content/drive/MyDrive/Shiraz/restaurant.csv')\n",
        "hospital = pd.read_csv('/content/drive/MyDrive/Shiraz/hospital.csv')\n",
        "placeOfWorship = pd.read_csv('/content/drive/MyDrive/Shiraz/place_of_worship.csv')\n",
        "swimmingPool = pd.read_csv('/content/drive/MyDrive/Shiraz/swimming_pool.csv')"
      ],
      "metadata": {
        "id": "Lt6DmWXt4_ZE"
      },
      "execution_count": 4,
      "outputs": []
    },
    {
      "cell_type": "code",
      "source": [
        "hotel = hotel[[\"name\", \"name:en\", \"stars\", \"tourism\", \"geometry\"]]\n",
        "hotel.to_csv('/content/drive/MyDrive/Shiraz/hotel.csv')"
      ],
      "metadata": {
        "id": "hHGk31Pb5ZQg"
      },
      "execution_count": 9,
      "outputs": []
    },
    {
      "cell_type": "code",
      "source": [
        "historic = historic[[\"amenity\",\n",
        "          \"building\",\n",
        "          \"heritage\",\n",
        "          \"historic\",\n",
        "          \"leisure\",\n",
        "          \"museum\",\n",
        "          \"memorial\",\n",
        "          \"name\",\n",
        "          \"name:en\",\n",
        "          \"opening_hours\",\n",
        "          \"tourism\",\n",
        "          \"geometry\"]]\n",
        "historic.to_csv('/content/drive/MyDrive/Shiraz/historic.csv')"
      ],
      "metadata": {
        "id": "kK_rpfA663K8"
      },
      "execution_count": 12,
      "outputs": []
    },
    {
      "cell_type": "code",
      "source": [
        "museum = museum[[\"amenity\", \"building\", \"heritage\", \"historic\", \"museum\", \"tourism\", \"geometry\"]]\n",
        "museum.to_csv('/content/drive/MyDrive/Shiraz/museum.csv')"
      ],
      "metadata": {
        "id": "UNTcfjFc8n2A"
      },
      "execution_count": 15,
      "outputs": []
    },
    {
      "cell_type": "code",
      "source": [
        "park = park[[\"leisure\", \"name\", \"name:en\", \"opening_hours\", \"geometry\"]]\n",
        "park.to_csv('/content/drive/MyDrive/Shiraz/park.csv')"
      ],
      "metadata": {
        "id": "7d_GqTs79i54"
      },
      "execution_count": 18,
      "outputs": []
    },
    {
      "cell_type": "code",
      "source": [
        "restaurant = restaurant[[\"amenity\", \"branch\", \"building\", \"cuisine\", \"name\", \"name:en\", \"opening_hours\", \"tourism\", \"geometry\"]]\n",
        "restaurant.to_csv('/content/drive/MyDrive/Shiraz/restaurant.csv')"
      ],
      "metadata": {
        "id": "LfYr8Gm0-0DF"
      },
      "execution_count": 23,
      "outputs": []
    }
  ]
}