{
  "nbformat": 4,
  "nbformat_minor": 0,
  "metadata": {
    "colab": {
      "provenance": [],
      "authorship_tag": "ABX9TyP5k9Wld1ngyhy1RdeTcXCL",
      "include_colab_link": true
    },
    "kernelspec": {
      "name": "python3",
      "display_name": "Python 3"
    },
    "language_info": {
      "name": "python"
    }
  },
  "cells": [
    {
      "cell_type": "markdown",
      "metadata": {
        "id": "view-in-github",
        "colab_type": "text"
      },
      "source": [
        "<a href=\"https://colab.research.google.com/github/hosngholami/RecommenderSystem/blob/main/preprocessing.ipynb\" target=\"_parent\"><img src=\"https://colab.research.google.com/assets/colab-badge.svg\" alt=\"Open In Colab\"/></a>"
      ]
    },
    {
      "cell_type": "code",
      "execution_count": 1,
      "metadata": {
        "id": "0QQoed644UYS"
      },
      "outputs": [],
      "source": [
        "import warnings\n",
        "warnings.filterwarnings('ignore')"
      ]
    },
    {
      "cell_type": "code",
      "source": [
        "from google.colab import drive\n",
        "drive.mount('/content/drive')"
      ],
      "metadata": {
        "colab": {
          "base_uri": "https://localhost:8080/"
        },
        "id": "anXFPCgr406y",
        "outputId": "8f1bb1f7-7b16-4fee-af7c-0afd875da896"
      },
      "execution_count": 2,
      "outputs": [
        {
          "output_type": "stream",
          "name": "stdout",
          "text": [
            "Mounted at /content/drive\n"
          ]
        }
      ]
    },
    {
      "cell_type": "code",
      "source": [
        "import pandas as pd\n",
        "import numpy as np\n",
        "import random\n",
        "from sklearn.neighbors import NearestNeighbors\n",
        "\n",
        "pd.set_option(\"display.max_columns\", 1000)\n",
        "pd.set_option('display.max_rows', 1000)"
      ],
      "metadata": {
        "id": "9IbSZR1M48RI"
      },
      "execution_count": 3,
      "outputs": []
    },
    {
      "cell_type": "code",
      "source": [
        "hotel = pd.read_csv('/content/drive/MyDrive/Shiraz/hotel.csv')\n",
        "historic =  pd.read_csv('/content/drive/MyDrive/Shiraz/historic.csv')\n",
        "museum = pd.read_csv('/content/drive/MyDrive/Shiraz/museum.csv')\n",
        "park = pd.read_csv('/content/drive/MyDrive/Shiraz/park.csv')\n",
        "resturant = pd.read_csv('/content/drive/MyDrive/Shiraz/restaurant.csv')"
      ],
      "metadata": {
        "id": "Lt6DmWXt4_ZE"
      },
      "execution_count": 4,
      "outputs": []
    },
    {
      "cell_type": "code",
      "source": [
        "hotel = hotel[[\"name\", \"name:en\", \"stars\", \"tourism\", \"geometry\"]]\n",
        "hotel.to_csv('/content/drive/MyDrive/Shiraz/hotel.csv')"
      ],
      "metadata": {
        "id": "hHGk31Pb5ZQg"
      },
      "execution_count": 9,
      "outputs": []
    },
    {
      "cell_type": "code",
      "source": [
        "historic = historic[[\"amenity\",\n",
        "          \"building\",\n",
        "          \"heritage\",\n",
        "          \"historic\",\n",
        "          \"leisure\",\n",
        "          \"museum\",\n",
        "          \"memorial\",\n",
        "          \"name\",\n",
        "          \"name:en\",\n",
        "          \"opening_hours\",\n",
        "          \"tourism\",\n",
        "          \"geometry\"]]\n",
        "historic.to_csv('/content/drive/MyDrive/Shiraz/historic.csv')"
      ],
      "metadata": {
        "id": "kK_rpfA663K8"
      },
      "execution_count": 12,
      "outputs": []
    },
    {
      "cell_type": "code",
      "source": [
        "museum = museum[[\"amenity\", \"building\", \"heritage\", \"historic\", \"museum\", \"tourism\", \"geometry\"]]\n",
        "museum.to_csv('/content/drive/MyDrive/Shiraz/museum.csv')"
      ],
      "metadata": {
        "id": "UNTcfjFc8n2A"
      },
      "execution_count": 15,
      "outputs": []
    }
  ]
}