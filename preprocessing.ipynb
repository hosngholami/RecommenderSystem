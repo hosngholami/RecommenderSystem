{
  "nbformat": 4,
  "nbformat_minor": 0,
  "metadata": {
    "colab": {
      "provenance": [],
      "authorship_tag": "ABX9TyMhmDMbhB6yU6hOmHVB/QBR",
      "include_colab_link": true
    },
    "kernelspec": {
      "name": "python3",
      "display_name": "Python 3"
    },
    "language_info": {
      "name": "python"
    }
  },
  "cells": [
    {
      "cell_type": "markdown",
      "metadata": {
        "id": "view-in-github",
        "colab_type": "text"
      },
      "source": [
        "<a href=\"https://colab.research.google.com/github/hosngholami/RecommenderSystem/blob/main/preprocessing.ipynb\" target=\"_parent\"><img src=\"https://colab.research.google.com/assets/colab-badge.svg\" alt=\"Open In Colab\"/></a>"
      ]
    },
    {
      "cell_type": "code",
      "execution_count": 1,
      "metadata": {
        "id": "0QQoed644UYS"
      },
      "outputs": [],
      "source": [
        "import warnings\n",
        "warnings.filterwarnings('ignore')"
      ]
    },
    {
      "cell_type": "code",
      "source": [
        "from google.colab import drive\n",
        "drive.mount('/content/drive')"
      ],
      "metadata": {
        "colab": {
          "base_uri": "https://localhost:8080/"
        },
        "id": "anXFPCgr406y",
        "outputId": "f59e2590-80fd-428e-afb9-65781ec19a2f"
      },
      "execution_count": 2,
      "outputs": [
        {
          "output_type": "stream",
          "name": "stdout",
          "text": [
            "Mounted at /content/drive\n"
          ]
        }
      ]
    },
    {
      "cell_type": "code",
      "source": [
        "import pandas as pd\n",
        "import numpy as np\n",
        "import random\n",
        "from sklearn.neighbors import NearestNeighbors\n",
        "\n",
        "pd.set_option(\"display.max_columns\", 100)\n",
        "pd.set_option('display.max_rows', 100)"
      ],
      "metadata": {
        "id": "9IbSZR1M48RI"
      },
      "execution_count": 9,
      "outputs": []
    },
    {
      "cell_type": "code",
      "source": [
        "hotel = pd.read_csv('/content/drive/MyDrive/Shiraz/hotel.csv')\n",
        "historic =  pd.read_csv('/content/drive/MyDrive/Shiraz/historic.csv')\n",
        "museum = pd.read_csv('/content/drive/MyDrive/Shiraz/museum.csv')\n",
        "park = pd.read_csv('/content/drive/MyDrive/Shiraz/park.csv')\n",
        "restaurant = pd.read_csv('/content/drive/MyDrive/Shiraz/restaurant.csv')\n",
        "hospital = pd.read_csv('/content/drive/MyDrive/Shiraz/hospital.csv')\n",
        "placeOfWorship = pd.read_csv('/content/drive/MyDrive/Shiraz/place_of_worship.csv')\n",
        "swimmingPool = pd.read_csv('/content/drive/MyDrive/Shiraz/swimming_pool.csv')"
      ],
      "metadata": {
        "id": "Lt6DmWXt4_ZE"
      },
      "execution_count": 4,
      "outputs": []
    },
    {
      "cell_type": "code",
      "source": [
        "hotel = hotel[[\"name\", \"name:en\", \"stars\", \"tourism\", \"geometry\"]]\n",
        "hotel.to_csv('/content/drive/MyDrive/Shiraz/hotel.csv')"
      ],
      "metadata": {
        "id": "hHGk31Pb5ZQg"
      },
      "execution_count": null,
      "outputs": []
    },
    {
      "cell_type": "code",
      "source": [
        "swimmingPool.info()"
      ],
      "metadata": {
        "id": "3uTWBhcj4kVK",
        "outputId": "77744d41-751d-4fe6-8649-c10d4253dc87",
        "colab": {
          "base_uri": "https://localhost:8080/"
        }
      },
      "execution_count": 52,
      "outputs": [
        {
          "output_type": "stream",
          "name": "stdout",
          "text": [
            "<class 'pandas.core.frame.DataFrame'>\n",
            "RangeIndex: 17 entries, 0 to 16\n",
            "Data columns (total 21 columns):\n",
            " #   Column             Non-Null Count  Dtype \n",
            "---  ------             --------------  ----- \n",
            " 0   id                 17 non-null     object\n",
            " 1   @id                17 non-null     object\n",
            " 2   access             2 non-null      object\n",
            " 3   addr:city          1 non-null      object\n",
            " 4   addr:street        1 non-null      object\n",
            " 5   building           3 non-null      object\n",
            " 6   contact:instagram  1 non-null      object\n",
            " 7   indoor             1 non-null      object\n",
            " 8   leisure            17 non-null     object\n",
            " 9   lit                1 non-null      object\n",
            " 10  location           2 non-null      object\n",
            " 11  name               13 non-null     object\n",
            " 12  name:en            4 non-null      object\n",
            " 13  operator           1 non-null      object\n",
            " 14  phone              1 non-null      object\n",
            " 15  roof:colour        1 non-null      object\n",
            " 16  roof:orientation   1 non-null      object\n",
            " 17  roof:shape         1 non-null      object\n",
            " 18  sport              2 non-null      object\n",
            " 19  swimming_pool      1 non-null      object\n",
            " 20  geometry           17 non-null     object\n",
            "dtypes: object(21)\n",
            "memory usage: 2.9+ KB\n"
          ]
        }
      ]
    },
    {
      "cell_type": "code",
      "source": [
        "historic = historic[[\"amenity\",\n",
        "          \"building\",\n",
        "          \"heritage\",\n",
        "          \"historic\",\n",
        "          \"leisure\",\n",
        "          \"museum\",\n",
        "          \"memorial\",\n",
        "          \"name\",\n",
        "          \"name:en\",\n",
        "          \"opening_hours\",\n",
        "          \"tourism\",\n",
        "          \"geometry\"]]\n",
        "historic.to_csv('/content/drive/MyDrive/Shiraz/historic.csv')"
      ],
      "metadata": {
        "id": "kK_rpfA663K8"
      },
      "execution_count": null,
      "outputs": []
    },
    {
      "cell_type": "code",
      "source": [
        "museum = museum[[\"amenity\", \"building\", \"heritage\", \"historic\", \"museum\", \"tourism\", \"geometry\"]]\n",
        "museum.to_csv('/content/drive/MyDrive/Shiraz/museum.csv')"
      ],
      "metadata": {
        "id": "UNTcfjFc8n2A"
      },
      "execution_count": null,
      "outputs": []
    },
    {
      "cell_type": "code",
      "source": [
        "park = park[[\"leisure\", \"name\", \"name:en\", \"opening_hours\", \"geometry\"]]\n",
        "park.to_csv('/content/drive/MyDrive/Shiraz/park.csv')"
      ],
      "metadata": {
        "id": "7d_GqTs79i54"
      },
      "execution_count": null,
      "outputs": []
    },
    {
      "cell_type": "code",
      "source": [
        "restaurant = restaurant[[\"amenity\", \"branch\", \"building\", \"cuisine\", \"name\", \"name:en\", \"opening_hours\", \"tourism\", \"geometry\"]]\n",
        "restaurant.to_csv('/content/drive/MyDrive/Shiraz/restaurant.csv')"
      ],
      "metadata": {
        "id": "LfYr8Gm0-0DF"
      },
      "execution_count": null,
      "outputs": []
    },
    {
      "cell_type": "code",
      "source": [
        "hospital = hospital[[\"amenity\",\n",
        "          \"name\",\n",
        "          \"name:en\",\n",
        "          \"opening_hours\",\n",
        "          \"geometry\"]]\n",
        "\n",
        "hospital.to_csv('/content/drive/MyDrive/Shiraz/hospital.csv')"
      ],
      "metadata": {
        "id": "FiTcq_fFqQRN"
      },
      "execution_count": null,
      "outputs": []
    },
    {
      "cell_type": "code",
      "source": [
        "placeOfWorship = placeOfWorship[[\"amenity\",\n",
        "                \"historic\",\n",
        "                \"name\",\n",
        "                \"name:en\",\n",
        "                \"opening_hours\",\n",
        "                \"place_of_worship:type\",\n",
        "                \"tourism\",\n",
        "                \"geometry\"]]\n",
        "\n",
        "placeOfWorship.to_csv('/content/drive/MyDrive/Shiraz/placeOfWorship.csv')"
      ],
      "metadata": {
        "id": "dcQUa6Nsq_81"
      },
      "execution_count": null,
      "outputs": []
    },
    {
      "cell_type": "code",
      "source": [
        "locations = pd.concat([historic, museum, park, restaurant, placeOfWorship, swimmingPool])\n",
        "locations[\"Latitude\"] = 0\n",
        "locations[\"Longitude\"] = 0"
      ],
      "metadata": {
        "id": "Ao5pZoUJwfNH"
      },
      "execution_count": 65,
      "outputs": []
    },
    {
      "cell_type": "code",
      "source": [
        "locations.info()"
      ],
      "metadata": {
        "id": "IAzeXS4m5rBK",
        "outputId": "dbd175aa-4a8f-49ed-c657-bed66bff1293",
        "colab": {
          "base_uri": "https://localhost:8080/"
        }
      },
      "execution_count": 66,
      "outputs": [
        {
          "output_type": "stream",
          "name": "stdout",
          "text": [
            "<class 'pandas.core.frame.DataFrame'>\n",
            "Index: 878 entries, 0 to 16\n",
            "Data columns (total 64 columns):\n",
            " #   Column                 Non-Null Count  Dtype  \n",
            "---  ------                 --------------  -----  \n",
            " 0   Unnamed: 0             645 non-null    float64\n",
            " 1   amenity                442 non-null    object \n",
            " 2   building               234 non-null    object \n",
            " 3   heritage               61 non-null     object \n",
            " 4   historic               99 non-null     object \n",
            " 5   leisure                361 non-null    object \n",
            " 6   museum                 5 non-null      object \n",
            " 7   memorial               5 non-null      object \n",
            " 8   name                   590 non-null    object \n",
            " 9   name:en                247 non-null    object \n",
            " 10  opening_hours          34 non-null     object \n",
            " 11  tourism                46 non-null     object \n",
            " 12  geometry               878 non-null    object \n",
            " 13  branch                 1 non-null      object \n",
            " 14  cuisine                68 non-null     object \n",
            " 15  id                     233 non-null    object \n",
            " 16  @id                    233 non-null    object \n",
            " 17  addr:city              12 non-null     object \n",
            " 18  addr:street            62 non-null     object \n",
            " 19  addr:town              1 non-null      object \n",
            " 20  air_conditioning       1 non-null      object \n",
            " 21  alt_name               8 non-null      object \n",
            " 22  baby_feeding           1 non-null      object \n",
            " 23  building_2             1 non-null      object \n",
            " 24  check_date             16 non-null     object \n",
            " 25  denomination           122 non-null    object \n",
            " 26  description            1 non-null      object \n",
            " 27  heritage:operator      20 non-null     object \n",
            " 28  landuse                1 non-null      object \n",
            " 29  layer                  1 non-null      float64\n",
            " 30  level                  1 non-null      float64\n",
            " 31  loc_name               1 non-null      object \n",
            " 32  name:ar                1 non-null      object \n",
            " 33  name:de                4 non-null      object \n",
            " 34  name:fa                3 non-null      object \n",
            " 35  name:it                1 non-null      object \n",
            " 36  name:ru                4 non-null      object \n",
            " 37  name:zh                2 non-null      object \n",
            " 38  place_of_worship:type  2 non-null      object \n",
            " 39  ref:ichhto             20 non-null     float64\n",
            " 40  religion               216 non-null    object \n",
            " 41  service_times          1 non-null      object \n",
            " 42  subject:wikidata       1 non-null      object \n",
            " 43  subject:wikipedia      1 non-null      object \n",
            " 44  tomb                   1 non-null      object \n",
            " 45  type                   22 non-null     object \n",
            " 46  wheelchair             3 non-null      object \n",
            " 47  wikidata               22 non-null     object \n",
            " 48  wikipedia              22 non-null     object \n",
            " 49  @geometry              153 non-null    object \n",
            " 50  access                 2 non-null      object \n",
            " 51  contact:instagram      1 non-null      object \n",
            " 52  indoor                 1 non-null      object \n",
            " 53  lit                    1 non-null      object \n",
            " 54  location               2 non-null      object \n",
            " 55  operator               1 non-null      object \n",
            " 56  phone                  1 non-null      object \n",
            " 57  roof:colour            1 non-null      object \n",
            " 58  roof:orientation       1 non-null      object \n",
            " 59  roof:shape             1 non-null      object \n",
            " 60  sport                  2 non-null      object \n",
            " 61  swimming_pool          1 non-null      object \n",
            " 62  Latitude               878 non-null    int64  \n",
            " 63  Longitude              878 non-null    int64  \n",
            "dtypes: float64(4), int64(2), object(58)\n",
            "memory usage: 445.9+ KB\n"
          ]
        }
      ]
    },
    {
      "cell_type": "code",
      "source": [
        "for i in range(len(locations)):\n",
        "  location = locations.iloc[i]['geometry']\n",
        "  latitude = str(location).split(\" \")[1]\n",
        "  latitude = latitude.replace(\"'\", \"\")\n",
        "  latitude = latitude.replace(\"(\", \"\")\n",
        "\n",
        "  longitude = location.split(\" \")[2]\n",
        "  longitude = longitude.replace(\"'\", \"\")\n",
        "  longitude = longitude.replace(\")\", \"\")\n",
        "  longitude = longitude.replace(\"(\", \"\")\n",
        "\n",
        "\n",
        "  locations.loc[i, 'Latitude'] = latitude\n",
        "  locations.loc[i, 'Longitude'] = longitude\n",
        "\n",
        "\n",
        "\n",
        "\n"
      ],
      "metadata": {
        "id": "MB34s9wtxF42"
      },
      "execution_count": 67,
      "outputs": []
    },
    {
      "cell_type": "code",
      "source": [
        "locations.to_csv('/content/drive/MyDrive/Shiraz/locations.csv')"
      ],
      "metadata": {
        "id": "eJIf7fJ86WG8"
      },
      "execution_count": 69,
      "outputs": []
    },
    {
      "cell_type": "markdown",
      "source": [],
      "metadata": {
        "id": "LIvgdfw8w1oD"
      }
    }
  ]
}