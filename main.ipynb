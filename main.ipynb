{
 "cells": [
  {
   "cell_type": "code",
   "execution_count": null,
   "id": "366c5286-a596-4ec0-94b7-2be86a66d5e1",
   "metadata": {},
   "outputs": [],
   "source": [
    "!pip install opendatasets\n",
    "!pip install geopy\n",
    "!pip install folium"
   ]
  },
  {
   "cell_type": "markdown",
   "id": "7b456103-e08b-4df9-a375-b5b36c3df92d",
   "metadata": {},
   "source": [
    "#### load dataset with kaggle in google colab"
   ]
  },
  {
   "cell_type": "code",
   "execution_count": null,
   "id": "01a4f50a-8e03-46b5-85bd-df8353c584e5",
   "metadata": {},
   "outputs": [],
   "source": [
    "import opendatasets\n",
    "opendatasets.download('https://www.kaggle.com/datasets/yelp-dataset/yelp-dataset')"
   ]
  },
  {
   "cell_type": "markdown",
   "id": "a6137c00-b7a7-45e8-b2c3-cab5b961c3fb",
   "metadata": {},
   "source": [
    "#### mount google drive in google colab"
   ]
  },
  {
   "cell_type": "code",
   "execution_count": null,
   "id": "c772e97f-341e-4f4a-a010-f0c8e2c9b4e6",
   "metadata": {},
   "outputs": [],
   "source": [
    "from google.colab import drive\n",
    "drive.mount('/content/drive')"
   ]
  },
  {
   "cell_type": "code",
   "execution_count": null,
   "id": "2e46df4b-fcff-42ad-8a81-6d8ca57f7ab6",
   "metadata": {},
   "outputs": [],
   "source": [
    "import json\n",
    "import pandas as pd"
   ]
  },
  {
   "cell_type": "markdown",
   "id": "9689a8ca-1f79-4e2e-aee5-db893534aa7f",
   "metadata": {},
   "source": [
    "#### load dataset"
   ]
  },
  {
   "cell_type": "code",
   "execution_count": null,
   "id": "3e012eb8-ef4c-4622-9db3-2d27fc1d59e5",
   "metadata": {},
   "outputs": [],
   "source": [
    "data_file = open(\"/content/drive/MyDrive/yelp-dataset/yelp-dataset/yelp_academic_dataset_business.json\")\n",
    "data = []\n",
    "for line in data_file:\n",
    "  data.append(json.loads(line))\n",
    "business_df = pd.DataFrame(data)\n",
    "business_df"
   ]
  },
  {
   "cell_type": "code",
   "execution_count": null,
   "id": "f13b9282-565b-4df0-b4a8-cd96d1a48f8b",
   "metadata": {},
   "outputs": [],
   "source": [
    "city = business_df[business_df[\"city\"]==\"Santa Barbara\"]\n",
    "city"
   ]
  },
  {
   "cell_type": "code",
   "execution_count": null,
   "id": "77ac1f8c-2392-411d-944c-f3c6c1e661c6",
   "metadata": {},
   "outputs": [],
   "source": [
    "data_file = open(\"/content/drive/MyDrive/yelp-dataset/yelp-dataset/yelp_academic_dataset_review.json\")\n",
    "data = []\n",
    "with open('/content/yelp_review.json', 'w') as file:\n",
    "\n",
    "  for line in data_file:\n",
    "    row = json.loads(line)\n",
    "    if (row[\"business_id\"] in list(city[\"business_id\"])):\n",
    "      file.write(line)"
   ]
  },
  {
   "cell_type": "code",
   "execution_count": null,
   "id": "c2e5f573-eaae-4583-bf17-f0e57b06f75b",
   "metadata": {},
   "outputs": [],
   "source": [
    "# !cp /content/yelp_review.json /content/drive/MyDrive/yelp-dataset/yelp-dataset"
   ]
  },
  {
   "cell_type": "code",
   "execution_count": null,
   "id": "e0a85154-e479-425a-93c5-5873f8e008c3",
   "metadata": {},
   "outputs": [],
   "source": [
    "data_file = open(\"/content/drive/MyDrive/yelp-dataset/yelp-dataset/yelp_review.json\")\n",
    "data = []\n",
    "\n",
    "\n",
    "for line in data_file:\n",
    "  data.append(json.loads(line))\n",
    "\n",
    "review_df = pd.DataFrame(data)\n",
    "review_df"
   ]
  },
  {
   "cell_type": "markdown",
   "id": "363b737d-f9f0-4dd7-858a-8362983f17a1",
   "metadata": {},
   "source": [
    "#### insert price for business"
   ]
  },
  {
   "cell_type": "code",
   "execution_count": null,
   "id": "3bd64e2e-5263-4f3f-8c25-cbed66a40edf",
   "metadata": {},
   "outputs": [],
   "source": [
    "#اضافه کردن دستی قیمت\n",
    "\n",
    "city[\"price\"] = 0\n",
    "import random\n",
    "indexes = city.index\n",
    "for index in indexes:\n",
    "  city.loc[index, \"price\"] = random.randint(1, 100)\n",
    "\n",
    "city"
   ]
  },
  {
   "cell_type": "markdown",
   "id": "bab62d2e-858c-4d4f-a47f-728c7ccdcc0e",
   "metadata": {},
   "source": [
    "#### calculate distance and time"
   ]
  },
  {
   "cell_type": "code",
   "execution_count": null,
   "id": "a7acd001-976a-4d83-b040-ae093b0c9188",
   "metadata": {},
   "outputs": [],
   "source": [
    "from geopy.distance import geodesic"
   ]
  },
  {
   "cell_type": "code",
   "execution_count": null,
   "id": "078118c4-c9aa-42c2-a7f1-89a662b267c7",
   "metadata": {},
   "outputs": [],
   "source": [
    "source = (41.49008, -71.312796)\n",
    "destination = (32.223236, -110.880452)\n",
    "distance = geodesic(source, destination).km\n",
    "print(f\"distance: {distance}\")\n",
    "#km\n",
    "avrage_speed = 90 #km\n",
    "#hours\n",
    "time =  distance / avrage_speed  \n",
    "\n",
    "print(f\"time: {time}\")"
   ]
  },
  {
   "cell_type": "code",
   "execution_count": null,
   "id": "7fa31805-7e08-44cb-91a9-03b1427dbc3e",
   "metadata": {},
   "outputs": [],
   "source": [
    "def fitnees_time(solution):\n",
    "\n",
    "  time = 0\n",
    "  avrage_speed = 80 #km\n",
    "  total_distance = 0\n",
    "\n",
    "  for i in range(len(solution)-1):\n",
    "    current = city[city['business_id'] == solution[i]]\n",
    "    next = city[city['business_id'] == solution[i+1]]\n",
    "\n",
    "\n",
    "    source = np.zeros(2, dtype=float)\n",
    "    source[0] = current[\"latitude\"]\n",
    "    source[1] = current[\"longitude\"]\n",
    "\n",
    "    destination = np.zeros(2, dtype=float)\n",
    "    destination[0] = next[\"latitude\"]\n",
    "    destination[1] = next[\"longitude\"]\n",
    "\n",
    "    total_distance += geodesic(source, destination).km\n",
    "\n",
    "  print(f\"total time: {int(avrage_speed / total_distance )}h\")\n",
    "  print(f\"total distance: {int(total_distance)}km\")\n"
   ]
  },
  {
   "cell_type": "markdown",
   "id": "6c6259db-338d-4990-a903-804eaff3e3ea",
   "metadata": {},
   "source": [
    "#### Crossover opration"
   ]
  },
  {
   "cell_type": "code",
   "execution_count": null,
   "id": "d5e97018-40e4-4ecb-b745-ffa511700186",
   "metadata": {},
   "outputs": [],
   "source": [
    "def cross_over(population):\n",
    "  offspring = np.empty((100,10), dtype=object)\n",
    "\n",
    "  for i in range(0, len(population), 2):\n",
    "    offspring[i][0:5] = population[i][0:5]\n",
    "    offspring[i][5:10] = population[i+1][5:10]\n",
    "\n",
    "    offspring[i+1][0:5] = population[i][5:10]\n",
    "    offspring[i+1][5:10] = population[i+1][0:5]\n",
    "\n",
    "  return offspring"
   ]
  },
  {
   "cell_type": "code",
   "execution_count": null,
   "id": "32c21016-516b-49d4-8a02-d1c30850327e",
   "metadata": {},
   "outputs": [],
   "source": [
    "def fitnees_price(solution):\n",
    "\n",
    "  total_price = 0\n",
    "\n",
    "  for i in range(len(solution)):\n",
    "\n",
    "    current = city[city['business_id'] == solution[i]]\n",
    "\n",
    "    total_price += int(current[\"price\"])\n",
    "\n",
    "  print(f\"total price: {total_price}\")"
   ]
  },
  {
   "cell_type": "code",
   "execution_count": null,
   "id": "cb90a085-3eb3-4529-bd91-8970a5f43adb",
   "metadata": {},
   "outputs": [],
   "source": [
    "import numpy as np"
   ]
  },
  {
   "cell_type": "code",
   "execution_count": null,
   "id": "6d2222d7-dd07-4329-b0f9-a2f267a36c32",
   "metadata": {},
   "outputs": [],
   "source": [
    "def create_population():\n",
    "  population = np.empty((100,10), dtype=object)\n",
    "\n",
    "  for i in range(100):\n",
    "    index = np.random.choice(city.index, replace=False, size=10)\n",
    "    selected_row = np.array(city.loc[index, \"business_id\"])\n",
    "    solution = np.empty(10, dtype=object)\n",
    "\n",
    "    for j in range(len(selected_row)):\n",
    "        solution[j] = selected_row[j]\n",
    "\n",
    "    population[i] = solution\n",
    "\n",
    "  return population"
   ]
  },
  {
   "cell_type": "markdown",
   "id": "b9beb99f-e791-4172-955f-48e09deccba2",
   "metadata": {},
   "source": [
    "### Evaluation"
   ]
  },
  {
   "cell_type": "code",
   "execution_count": null,
   "id": "35086239-7075-4fcb-91e7-6b87c7f2ee13",
   "metadata": {},
   "outputs": [],
   "source": [
    "def evaluation(population):\n",
    "  fitnees_value = np.empty((200, 2), dtype=object)\n",
    "\n",
    "  for i in range(len(population)-1):\n",
    "    solution = population[i]\n",
    "\n",
    "    fitnees_value[i, 0] = fitnees_price(solution)\n",
    "    fitnees_value[i, 1] = fitnees_time(solution)\n",
    "\n",
    "    fitnees_value_df = pd.DataFrame(fitnees_value, columns=['price', 'time'])\n",
    "\n",
    "  return fitnees_value_df\n"
   ]
  },
  {
   "cell_type": "markdown",
   "id": "8b0315a4-3525-4f62-9637-31d19019f0f2",
   "metadata": {},
   "source": [
    "#### Pareto Ranking"
   ]
  },
  {
   "cell_type": "code",
   "execution_count": null,
   "id": "a4e071d0-b5c0-4a13-86b1-e57dab8b7334",
   "metadata": {},
   "outputs": [],
   "source": [
    "import copy\n",
    "def get_pareto_ranking(fitnees_value):\n",
    "\n",
    "  fitnees_value_array = copy.deepcopy(np.array(fitnees_value.loc[:, ['price', 'time']]))\n",
    "  fitnees_value[\"rank\"] = 1\n",
    "    \n",
    "  for i in range(1, len(fitnees_value_array)-2):\n",
    "\n",
    "    p1 = fitnees_value_array[i]\n",
    "    \n",
    "    for j in range(0, i-1):\n",
    "      \n",
    "      p2 = fitnees_value_array[j]\n",
    "\n",
    "      if (all(p1 >= p2) and any(p1 > p2)):\n",
    "        \n",
    "          fitnees_value.loc[j, \"rank\"] += 1\n",
    "      elif (all(p2 >= p1) and any(p2 > p1)):\n",
    "        fitnees_value.loc[i, \"rank\"] += 1\n",
    "\n",
    "\n",
    "  return fitnees_value"
   ]
  },
  {
   "cell_type": "code",
   "execution_count": null,
   "id": "5330e5fa-9ea5-48da-b1b2-4a2d107e69f2",
   "metadata": {},
   "outputs": [],
   "source": [
    "\n",
    "P = create_population()\n",
    "Q = cross_over(P)\n",
    "\n",
    "\n",
    "pop = list(P)+list(Q)\n",
    "\n",
    "fitnees_values = evaluation(pop)\n",
    "\n",
    "pop = get_pareto_ranking(fitnees_values)\n",
    "\n",
    "pop.sort_values(\"rank\")"
   ]
  },
  {
   "cell_type": "code",
   "execution_count": null,
   "id": "969988a3-4c8c-4982-a88d-13ead2752824",
   "metadata": {},
   "outputs": [],
   "source": [
    "import folium\n",
    "from geopy.geocoders import ArcGIS\n",
    "from geopy.geocoders import Nominatim\n",
    "geolocator = Nominatim(user_agent=\"location_details\")"
   ]
  },
  {
   "cell_type": "code",
   "execution_count": null,
   "id": "1bca9b95-0439-4261-bb7b-2e8951bc883c",
   "metadata": {},
   "outputs": [],
   "source": [
    "map=folium.Map(location=[\"34.426679\", \"-119.711197\"],zoom_start=15)\n",
    "\n",
    "for i in range(len(city)):\n",
    "   if i == 5:\n",
    "      break\n",
    "   latitude = city.iloc[i][\"latitude\"]\n",
    "   longitude = city.iloc[i][\"longitude\"]\n",
    "   map.add_child(folium.Marker(location=[latitude, longitude], popup=i, ,icon=folium.Icon(color='blue')))\n",
    "map.add_child(folium.Marker(location=[\"34.426679\", \"-119.711197\"],icon=folium.Icon(color='blue')))"
   ]
  }
 ],
 "metadata": {
  "kernelspec": {
   "display_name": "Python 3 (ipykernel)",
   "language": "python",
   "name": "python3"
  },
  "language_info": {
   "codemirror_mode": {
    "name": "ipython",
    "version": 3
   },
   "file_extension": ".py",
   "mimetype": "text/x-python",
   "name": "python",
   "nbconvert_exporter": "python",
   "pygments_lexer": "ipython3",
   "version": "3.11.5"
  }
 },
 "nbformat": 4,
 "nbformat_minor": 5
}
